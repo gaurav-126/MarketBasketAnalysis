{
 "cells": [
  {
   "cell_type": "markdown",
   "metadata": {
    "id": "t4D-lmGR4JA4"
   },
   "source": [
    "Importing Libraries"
   ]
  },
  {
   "cell_type": "code",
   "execution_count": 3,
   "metadata": {
    "executionInfo": {
     "elapsed": 436,
     "status": "ok",
     "timestamp": 1625570614207,
     "user": {
      "displayName": "Kinjal Toshniwal",
      "photoUrl": "",
      "userId": "12129278458264247337"
     },
     "user_tz": -330
    },
    "id": "ZMIvOnY54L50"
   },
   "outputs": [],
   "source": [
    "import numpy as np\n",
    "import pandas as pd\n",
    "import matplotlib.pyplot as plt\n",
    "import seaborn as sns\n",
    "import datetime\n",
    "\n",
    "from sklearn.cluster import KMeans\n",
    "from mlxtend.frequent_patterns import apriori, association_rules"
   ]
  },
  {
   "cell_type": "markdown",
   "metadata": {
    "id": "tW3PzoRB4bJT"
   },
   "source": [
    "Getting the data"
   ]
  },
  {
   "cell_type": "code",
   "execution_count": 5,
   "metadata": {
    "executionInfo": {
     "elapsed": 50525,
     "status": "ok",
     "timestamp": 1625570665116,
     "user": {
      "displayName": "Kinjal Toshniwal",
      "photoUrl": "",
      "userId": "12129278458264247337"
     },
     "user_tz": -330
    },
    "id": "kerOAmOA4Wud"
   },
   "outputs": [],
   "source": [
    "df=pd.read_excel('Online Retail.xlsx')"
   ]
  },
  {
   "cell_type": "markdown",
   "metadata": {
    "id": "4tp1KXqq5Om1"
   },
   "source": [
    "#Data Exploration"
   ]
  },
  {
   "cell_type": "code",
   "execution_count": 6,
   "metadata": {
    "colab": {
     "base_uri": "https://localhost:8080/"
    },
    "executionInfo": {
     "elapsed": 76,
     "status": "ok",
     "timestamp": 1625570665138,
     "user": {
      "displayName": "Kinjal Toshniwal",
      "photoUrl": "",
      "userId": "12129278458264247337"
     },
     "user_tz": -330
    },
    "id": "HdleP-w35aje",
    "outputId": "086120b4-2173-46ad-b534-5b0e623bdea8"
   },
   "outputs": [
    {
     "data": {
      "text/plain": [
       "(541909, 8)"
      ]
     },
     "execution_count": 6,
     "metadata": {},
     "output_type": "execute_result"
    }
   ],
   "source": [
    "df.shape"
   ]
  },
  {
   "cell_type": "code",
   "execution_count": 7,
   "metadata": {
    "colab": {
     "base_uri": "https://localhost:8080/",
     "height": 293
    },
    "executionInfo": {
     "elapsed": 61,
     "status": "ok",
     "timestamp": 1625570665148,
     "user": {
      "displayName": "Kinjal Toshniwal",
      "photoUrl": "",
      "userId": "12129278458264247337"
     },
     "user_tz": -330
    },
    "id": "zvKlei025QN2",
    "outputId": "34d6514c-e6bc-4a6e-ee3b-40bc52f045f4"
   },
   "outputs": [
    {
     "data": {
      "text/html": [
       "<div>\n",
       "<style scoped>\n",
       "    .dataframe tbody tr th:only-of-type {\n",
       "        vertical-align: middle;\n",
       "    }\n",
       "\n",
       "    .dataframe tbody tr th {\n",
       "        vertical-align: top;\n",
       "    }\n",
       "\n",
       "    .dataframe thead th {\n",
       "        text-align: right;\n",
       "    }\n",
       "</style>\n",
       "<table border=\"1\" class=\"dataframe\">\n",
       "  <thead>\n",
       "    <tr style=\"text-align: right;\">\n",
       "      <th></th>\n",
       "      <th>InvoiceNo</th>\n",
       "      <th>StockCode</th>\n",
       "      <th>Description</th>\n",
       "      <th>Quantity</th>\n",
       "      <th>InvoiceDate</th>\n",
       "      <th>UnitPrice</th>\n",
       "      <th>CustomerID</th>\n",
       "      <th>Country</th>\n",
       "    </tr>\n",
       "  </thead>\n",
       "  <tbody>\n",
       "    <tr>\n",
       "      <th>0</th>\n",
       "      <td>536365</td>\n",
       "      <td>85123A</td>\n",
       "      <td>WHITE HANGING HEART T-LIGHT HOLDER</td>\n",
       "      <td>6</td>\n",
       "      <td>2010-12-01 08:26:00</td>\n",
       "      <td>2.55</td>\n",
       "      <td>17850.0</td>\n",
       "      <td>United Kingdom</td>\n",
       "    </tr>\n",
       "    <tr>\n",
       "      <th>1</th>\n",
       "      <td>536365</td>\n",
       "      <td>71053</td>\n",
       "      <td>WHITE METAL LANTERN</td>\n",
       "      <td>6</td>\n",
       "      <td>2010-12-01 08:26:00</td>\n",
       "      <td>3.39</td>\n",
       "      <td>17850.0</td>\n",
       "      <td>United Kingdom</td>\n",
       "    </tr>\n",
       "    <tr>\n",
       "      <th>2</th>\n",
       "      <td>536365</td>\n",
       "      <td>84406B</td>\n",
       "      <td>CREAM CUPID HEARTS COAT HANGER</td>\n",
       "      <td>8</td>\n",
       "      <td>2010-12-01 08:26:00</td>\n",
       "      <td>2.75</td>\n",
       "      <td>17850.0</td>\n",
       "      <td>United Kingdom</td>\n",
       "    </tr>\n",
       "    <tr>\n",
       "      <th>3</th>\n",
       "      <td>536365</td>\n",
       "      <td>84029G</td>\n",
       "      <td>KNITTED UNION FLAG HOT WATER BOTTLE</td>\n",
       "      <td>6</td>\n",
       "      <td>2010-12-01 08:26:00</td>\n",
       "      <td>3.39</td>\n",
       "      <td>17850.0</td>\n",
       "      <td>United Kingdom</td>\n",
       "    </tr>\n",
       "    <tr>\n",
       "      <th>4</th>\n",
       "      <td>536365</td>\n",
       "      <td>84029E</td>\n",
       "      <td>RED WOOLLY HOTTIE WHITE HEART.</td>\n",
       "      <td>6</td>\n",
       "      <td>2010-12-01 08:26:00</td>\n",
       "      <td>3.39</td>\n",
       "      <td>17850.0</td>\n",
       "      <td>United Kingdom</td>\n",
       "    </tr>\n",
       "  </tbody>\n",
       "</table>\n",
       "</div>"
      ],
      "text/plain": [
       "  InvoiceNo StockCode                          Description  Quantity  \\\n",
       "0    536365    85123A   WHITE HANGING HEART T-LIGHT HOLDER         6   \n",
       "1    536365     71053                  WHITE METAL LANTERN         6   \n",
       "2    536365    84406B       CREAM CUPID HEARTS COAT HANGER         8   \n",
       "3    536365    84029G  KNITTED UNION FLAG HOT WATER BOTTLE         6   \n",
       "4    536365    84029E       RED WOOLLY HOTTIE WHITE HEART.         6   \n",
       "\n",
       "          InvoiceDate  UnitPrice  CustomerID         Country  \n",
       "0 2010-12-01 08:26:00       2.55     17850.0  United Kingdom  \n",
       "1 2010-12-01 08:26:00       3.39     17850.0  United Kingdom  \n",
       "2 2010-12-01 08:26:00       2.75     17850.0  United Kingdom  \n",
       "3 2010-12-01 08:26:00       3.39     17850.0  United Kingdom  \n",
       "4 2010-12-01 08:26:00       3.39     17850.0  United Kingdom  "
      ]
     },
     "execution_count": 7,
     "metadata": {},
     "output_type": "execute_result"
    }
   ],
   "source": [
    "df.head()"
   ]
  },
  {
   "cell_type": "code",
   "execution_count": 8,
   "metadata": {
    "colab": {
     "base_uri": "https://localhost:8080/",
     "height": 293
    },
    "executionInfo": {
     "elapsed": 60,
     "status": "ok",
     "timestamp": 1625570665152,
     "user": {
      "displayName": "Kinjal Toshniwal",
      "photoUrl": "",
      "userId": "12129278458264247337"
     },
     "user_tz": -330
    },
    "id": "KXOIu59Z5S51",
    "outputId": "9e2b30f5-d2d5-4db9-f101-418b261e076b"
   },
   "outputs": [
    {
     "data": {
      "text/html": [
       "<div>\n",
       "<style scoped>\n",
       "    .dataframe tbody tr th:only-of-type {\n",
       "        vertical-align: middle;\n",
       "    }\n",
       "\n",
       "    .dataframe tbody tr th {\n",
       "        vertical-align: top;\n",
       "    }\n",
       "\n",
       "    .dataframe thead th {\n",
       "        text-align: right;\n",
       "    }\n",
       "</style>\n",
       "<table border=\"1\" class=\"dataframe\">\n",
       "  <thead>\n",
       "    <tr style=\"text-align: right;\">\n",
       "      <th></th>\n",
       "      <th>InvoiceNo</th>\n",
       "      <th>StockCode</th>\n",
       "      <th>Description</th>\n",
       "      <th>Quantity</th>\n",
       "      <th>InvoiceDate</th>\n",
       "      <th>UnitPrice</th>\n",
       "      <th>CustomerID</th>\n",
       "      <th>Country</th>\n",
       "    </tr>\n",
       "  </thead>\n",
       "  <tbody>\n",
       "    <tr>\n",
       "      <th>541904</th>\n",
       "      <td>581587</td>\n",
       "      <td>22613</td>\n",
       "      <td>PACK OF 20 SPACEBOY NAPKINS</td>\n",
       "      <td>12</td>\n",
       "      <td>2011-12-09 12:50:00</td>\n",
       "      <td>0.85</td>\n",
       "      <td>12680.0</td>\n",
       "      <td>France</td>\n",
       "    </tr>\n",
       "    <tr>\n",
       "      <th>541905</th>\n",
       "      <td>581587</td>\n",
       "      <td>22899</td>\n",
       "      <td>CHILDREN'S APRON DOLLY GIRL</td>\n",
       "      <td>6</td>\n",
       "      <td>2011-12-09 12:50:00</td>\n",
       "      <td>2.10</td>\n",
       "      <td>12680.0</td>\n",
       "      <td>France</td>\n",
       "    </tr>\n",
       "    <tr>\n",
       "      <th>541906</th>\n",
       "      <td>581587</td>\n",
       "      <td>23254</td>\n",
       "      <td>CHILDRENS CUTLERY DOLLY GIRL</td>\n",
       "      <td>4</td>\n",
       "      <td>2011-12-09 12:50:00</td>\n",
       "      <td>4.15</td>\n",
       "      <td>12680.0</td>\n",
       "      <td>France</td>\n",
       "    </tr>\n",
       "    <tr>\n",
       "      <th>541907</th>\n",
       "      <td>581587</td>\n",
       "      <td>23255</td>\n",
       "      <td>CHILDRENS CUTLERY CIRCUS PARADE</td>\n",
       "      <td>4</td>\n",
       "      <td>2011-12-09 12:50:00</td>\n",
       "      <td>4.15</td>\n",
       "      <td>12680.0</td>\n",
       "      <td>France</td>\n",
       "    </tr>\n",
       "    <tr>\n",
       "      <th>541908</th>\n",
       "      <td>581587</td>\n",
       "      <td>22138</td>\n",
       "      <td>BAKING SET 9 PIECE RETROSPOT</td>\n",
       "      <td>3</td>\n",
       "      <td>2011-12-09 12:50:00</td>\n",
       "      <td>4.95</td>\n",
       "      <td>12680.0</td>\n",
       "      <td>France</td>\n",
       "    </tr>\n",
       "  </tbody>\n",
       "</table>\n",
       "</div>"
      ],
      "text/plain": [
       "       InvoiceNo StockCode                      Description  Quantity  \\\n",
       "541904    581587     22613      PACK OF 20 SPACEBOY NAPKINS        12   \n",
       "541905    581587     22899     CHILDREN'S APRON DOLLY GIRL          6   \n",
       "541906    581587     23254    CHILDRENS CUTLERY DOLLY GIRL          4   \n",
       "541907    581587     23255  CHILDRENS CUTLERY CIRCUS PARADE         4   \n",
       "541908    581587     22138    BAKING SET 9 PIECE RETROSPOT          3   \n",
       "\n",
       "               InvoiceDate  UnitPrice  CustomerID Country  \n",
       "541904 2011-12-09 12:50:00       0.85     12680.0  France  \n",
       "541905 2011-12-09 12:50:00       2.10     12680.0  France  \n",
       "541906 2011-12-09 12:50:00       4.15     12680.0  France  \n",
       "541907 2011-12-09 12:50:00       4.15     12680.0  France  \n",
       "541908 2011-12-09 12:50:00       4.95     12680.0  France  "
      ]
     },
     "execution_count": 8,
     "metadata": {},
     "output_type": "execute_result"
    }
   ],
   "source": [
    "df.tail()"
   ]
  },
  {
   "cell_type": "code",
   "execution_count": 9,
   "metadata": {
    "colab": {
     "base_uri": "https://localhost:8080/"
    },
    "executionInfo": {
     "elapsed": 59,
     "status": "ok",
     "timestamp": 1625570665154,
     "user": {
      "displayName": "Kinjal Toshniwal",
      "photoUrl": "",
      "userId": "12129278458264247337"
     },
     "user_tz": -330
    },
    "id": "uZhh0vQZ5UUF",
    "outputId": "6a24d415-8440-498a-a6df-8497b5483fec"
   },
   "outputs": [
    {
     "data": {
      "text/plain": [
       "InvoiceNo              object\n",
       "StockCode              object\n",
       "Description            object\n",
       "Quantity                int64\n",
       "InvoiceDate    datetime64[ns]\n",
       "UnitPrice             float64\n",
       "CustomerID            float64\n",
       "Country                object\n",
       "dtype: object"
      ]
     },
     "execution_count": 9,
     "metadata": {},
     "output_type": "execute_result"
    }
   ],
   "source": [
    "df.dtypes"
   ]
  },
  {
   "cell_type": "code",
   "execution_count": 10,
   "metadata": {
    "colab": {
     "base_uri": "https://localhost:8080/",
     "height": 300
    },
    "executionInfo": {
     "elapsed": 54,
     "status": "ok",
     "timestamp": 1625570665156,
     "user": {
      "displayName": "Kinjal Toshniwal",
      "photoUrl": "",
      "userId": "12129278458264247337"
     },
     "user_tz": -330
    },
    "id": "8zI_aK0-5Xqx",
    "outputId": "4488c660-9c02-407e-b3a4-178e658ca264"
   },
   "outputs": [
    {
     "data": {
      "text/html": [
       "<div>\n",
       "<style scoped>\n",
       "    .dataframe tbody tr th:only-of-type {\n",
       "        vertical-align: middle;\n",
       "    }\n",
       "\n",
       "    .dataframe tbody tr th {\n",
       "        vertical-align: top;\n",
       "    }\n",
       "\n",
       "    .dataframe thead th {\n",
       "        text-align: right;\n",
       "    }\n",
       "</style>\n",
       "<table border=\"1\" class=\"dataframe\">\n",
       "  <thead>\n",
       "    <tr style=\"text-align: right;\">\n",
       "      <th></th>\n",
       "      <th>Quantity</th>\n",
       "      <th>UnitPrice</th>\n",
       "      <th>CustomerID</th>\n",
       "    </tr>\n",
       "  </thead>\n",
       "  <tbody>\n",
       "    <tr>\n",
       "      <th>count</th>\n",
       "      <td>541909.000000</td>\n",
       "      <td>541909.000000</td>\n",
       "      <td>406829.000000</td>\n",
       "    </tr>\n",
       "    <tr>\n",
       "      <th>mean</th>\n",
       "      <td>9.552250</td>\n",
       "      <td>4.611114</td>\n",
       "      <td>15287.690570</td>\n",
       "    </tr>\n",
       "    <tr>\n",
       "      <th>std</th>\n",
       "      <td>218.081158</td>\n",
       "      <td>96.759853</td>\n",
       "      <td>1713.600303</td>\n",
       "    </tr>\n",
       "    <tr>\n",
       "      <th>min</th>\n",
       "      <td>-80995.000000</td>\n",
       "      <td>-11062.060000</td>\n",
       "      <td>12346.000000</td>\n",
       "    </tr>\n",
       "    <tr>\n",
       "      <th>25%</th>\n",
       "      <td>1.000000</td>\n",
       "      <td>1.250000</td>\n",
       "      <td>13953.000000</td>\n",
       "    </tr>\n",
       "    <tr>\n",
       "      <th>50%</th>\n",
       "      <td>3.000000</td>\n",
       "      <td>2.080000</td>\n",
       "      <td>15152.000000</td>\n",
       "    </tr>\n",
       "    <tr>\n",
       "      <th>75%</th>\n",
       "      <td>10.000000</td>\n",
       "      <td>4.130000</td>\n",
       "      <td>16791.000000</td>\n",
       "    </tr>\n",
       "    <tr>\n",
       "      <th>max</th>\n",
       "      <td>80995.000000</td>\n",
       "      <td>38970.000000</td>\n",
       "      <td>18287.000000</td>\n",
       "    </tr>\n",
       "  </tbody>\n",
       "</table>\n",
       "</div>"
      ],
      "text/plain": [
       "            Quantity      UnitPrice     CustomerID\n",
       "count  541909.000000  541909.000000  406829.000000\n",
       "mean        9.552250       4.611114   15287.690570\n",
       "std       218.081158      96.759853    1713.600303\n",
       "min    -80995.000000  -11062.060000   12346.000000\n",
       "25%         1.000000       1.250000   13953.000000\n",
       "50%         3.000000       2.080000   15152.000000\n",
       "75%        10.000000       4.130000   16791.000000\n",
       "max     80995.000000   38970.000000   18287.000000"
      ]
     },
     "execution_count": 10,
     "metadata": {},
     "output_type": "execute_result"
    }
   ],
   "source": [
    "df.describe()"
   ]
  },
  {
   "cell_type": "markdown",
   "metadata": {
    "id": "0ZXe8o9l5zES"
   },
   "source": [
    "The above cell shows that 'Quantity' and 'UnitPrice' columns have negative values. \n",
    "\n",
    "The negative values can be because of cancellation or return of orders, these must be removed as they would affect the dataset."
   ]
  },
  {
   "cell_type": "code",
   "execution_count": 11,
   "metadata": {
    "colab": {
     "base_uri": "https://localhost:8080/",
     "height": 563
    },
    "executionInfo": {
     "elapsed": 1087,
     "status": "ok",
     "timestamp": 1625570666192,
     "user": {
      "displayName": "Kinjal Toshniwal",
      "photoUrl": "",
      "userId": "12129278458264247337"
     },
     "user_tz": -330
    },
    "id": "6Lw5xfhY5lD0",
    "outputId": "a0e64b29-f88e-4dd5-b64a-ca0a44a60811"
   },
   "outputs": [
    {
     "data": {
      "text/html": [
       "<div>\n",
       "<style scoped>\n",
       "    .dataframe tbody tr th:only-of-type {\n",
       "        vertical-align: middle;\n",
       "    }\n",
       "\n",
       "    .dataframe tbody tr th {\n",
       "        vertical-align: top;\n",
       "    }\n",
       "\n",
       "    .dataframe thead th {\n",
       "        text-align: right;\n",
       "    }\n",
       "</style>\n",
       "<table border=\"1\" class=\"dataframe\">\n",
       "  <thead>\n",
       "    <tr style=\"text-align: right;\">\n",
       "      <th></th>\n",
       "      <th>dtypes</th>\n",
       "      <th>counts</th>\n",
       "      <th>distincts</th>\n",
       "      <th>nulls</th>\n",
       "      <th>missing_percent</th>\n",
       "      <th>uniques</th>\n",
       "      <th>skewness</th>\n",
       "      <th>kurtosis</th>\n",
       "    </tr>\n",
       "  </thead>\n",
       "  <tbody>\n",
       "    <tr>\n",
       "      <th>CustomerID</th>\n",
       "      <td>float64</td>\n",
       "      <td>406829</td>\n",
       "      <td>4373</td>\n",
       "      <td>135080</td>\n",
       "      <td>24.926694</td>\n",
       "      <td>[17850.0, 13047.0, 12583.0, 13748.0, 15100.0, ...</td>\n",
       "      <td>0.029835</td>\n",
       "      <td>-1.179982</td>\n",
       "    </tr>\n",
       "    <tr>\n",
       "      <th>Description</th>\n",
       "      <td>object</td>\n",
       "      <td>540455</td>\n",
       "      <td>4224</td>\n",
       "      <td>1454</td>\n",
       "      <td>0.268311</td>\n",
       "      <td>[WHITE HANGING HEART T-LIGHT HOLDER, WHITE MET...</td>\n",
       "      <td>NaN</td>\n",
       "      <td>NaN</td>\n",
       "    </tr>\n",
       "    <tr>\n",
       "      <th>Country</th>\n",
       "      <td>object</td>\n",
       "      <td>541909</td>\n",
       "      <td>38</td>\n",
       "      <td>0</td>\n",
       "      <td>0.000000</td>\n",
       "      <td>[United Kingdom, France, Australia, Netherland...</td>\n",
       "      <td>NaN</td>\n",
       "      <td>NaN</td>\n",
       "    </tr>\n",
       "    <tr>\n",
       "      <th>InvoiceDate</th>\n",
       "      <td>datetime64[ns]</td>\n",
       "      <td>541909</td>\n",
       "      <td>23260</td>\n",
       "      <td>0</td>\n",
       "      <td>0.000000</td>\n",
       "      <td>[2010-12-01T08:26:00.000000000, 2010-12-01T08:...</td>\n",
       "      <td>NaN</td>\n",
       "      <td>NaN</td>\n",
       "    </tr>\n",
       "    <tr>\n",
       "      <th>InvoiceNo</th>\n",
       "      <td>object</td>\n",
       "      <td>541909</td>\n",
       "      <td>25900</td>\n",
       "      <td>0</td>\n",
       "      <td>0.000000</td>\n",
       "      <td>[536365, 536366, 536367, 536368, 536369, 53637...</td>\n",
       "      <td>NaN</td>\n",
       "      <td>NaN</td>\n",
       "    </tr>\n",
       "    <tr>\n",
       "      <th>Quantity</th>\n",
       "      <td>int64</td>\n",
       "      <td>541909</td>\n",
       "      <td>722</td>\n",
       "      <td>0</td>\n",
       "      <td>0.000000</td>\n",
       "      <td>[6, 8, 2, 32, 3, 4, 24, 12, 48, 18, 20, 36, 80...</td>\n",
       "      <td>-0.264076</td>\n",
       "      <td>119769.160031</td>\n",
       "    </tr>\n",
       "    <tr>\n",
       "      <th>StockCode</th>\n",
       "      <td>object</td>\n",
       "      <td>541909</td>\n",
       "      <td>4070</td>\n",
       "      <td>0</td>\n",
       "      <td>0.000000</td>\n",
       "      <td>[85123A, 71053, 84406B, 84029G, 84029E, 22752,...</td>\n",
       "      <td>NaN</td>\n",
       "      <td>NaN</td>\n",
       "    </tr>\n",
       "    <tr>\n",
       "      <th>UnitPrice</th>\n",
       "      <td>float64</td>\n",
       "      <td>541909</td>\n",
       "      <td>1630</td>\n",
       "      <td>0</td>\n",
       "      <td>0.000000</td>\n",
       "      <td>[2.55, 3.39, 2.75, 7.65, 4.25, 1.85, 1.69, 2.1...</td>\n",
       "      <td>186.506972</td>\n",
       "      <td>59005.719097</td>\n",
       "    </tr>\n",
       "  </tbody>\n",
       "</table>\n",
       "</div>"
      ],
      "text/plain": [
       "                     dtypes  counts  distincts   nulls  missing_percent  \\\n",
       "CustomerID          float64  406829       4373  135080        24.926694   \n",
       "Description          object  540455       4224    1454         0.268311   \n",
       "Country              object  541909         38       0         0.000000   \n",
       "InvoiceDate  datetime64[ns]  541909      23260       0         0.000000   \n",
       "InvoiceNo            object  541909      25900       0         0.000000   \n",
       "Quantity              int64  541909        722       0         0.000000   \n",
       "StockCode            object  541909       4070       0         0.000000   \n",
       "UnitPrice           float64  541909       1630       0         0.000000   \n",
       "\n",
       "                                                       uniques    skewness  \\\n",
       "CustomerID   [17850.0, 13047.0, 12583.0, 13748.0, 15100.0, ...    0.029835   \n",
       "Description  [WHITE HANGING HEART T-LIGHT HOLDER, WHITE MET...         NaN   \n",
       "Country      [United Kingdom, France, Australia, Netherland...         NaN   \n",
       "InvoiceDate  [2010-12-01T08:26:00.000000000, 2010-12-01T08:...         NaN   \n",
       "InvoiceNo    [536365, 536366, 536367, 536368, 536369, 53637...         NaN   \n",
       "Quantity     [6, 8, 2, 32, 3, 4, 24, 12, 48, 18, 20, 36, 80...   -0.264076   \n",
       "StockCode    [85123A, 71053, 84406B, 84029G, 84029E, 22752,...         NaN   \n",
       "UnitPrice    [2.55, 3.39, 2.75, 7.65, 4.25, 1.85, 1.69, 2.1...  186.506972   \n",
       "\n",
       "                  kurtosis  \n",
       "CustomerID       -1.179982  \n",
       "Description            NaN  \n",
       "Country                NaN  \n",
       "InvoiceDate            NaN  \n",
       "InvoiceNo              NaN  \n",
       "Quantity     119769.160031  \n",
       "StockCode              NaN  \n",
       "UnitPrice     59005.719097  "
      ]
     },
     "metadata": {},
     "output_type": "display_data"
    }
   ],
   "source": [
    "def descr(df):\n",
    "  no_rows=df.shape[0]\n",
    "  types=df.dtypes\n",
    "  counts=df.apply(lambda x: x.count())\n",
    "  uniques=df.apply(lambda x: x.unique())\n",
    "  nulls=df.apply(lambda x: x.isnull().sum())\n",
    "  distincts=df.apply(lambda x: x.unique().shape[0])\n",
    "  nan_percent=(df.isnull().sum()/no_rows)*100\n",
    "  skewness=df.skew()\n",
    "  kurtosis=df.kurt()\n",
    "\n",
    "  cols={'dtypes':types, 'counts':counts, 'distincts':distincts, 'nulls':nulls,  \n",
    "        'missing_percent':nan_percent, 'uniques':uniques, 'skewness':skewness, 'kurtosis':kurtosis}\n",
    "  table=pd.DataFrame(data=cols)\n",
    "  return table\n",
    "\n",
    "details = descr(df)\n",
    "display(details.sort_values(by='missing_percent', ascending=False))"
   ]
  },
  {
   "cell_type": "markdown",
   "metadata": {
    "id": "v0FpbIIiaA3j"
   },
   "source": [
    "From here we can see that 'CustomerID' and 'Description' columns have NaN values."
   ]
  },
  {
   "cell_type": "markdown",
   "metadata": {
    "id": "tmnKywW5aEcv"
   },
   "source": [
    "#Data Cleaning"
   ]
  },
  {
   "cell_type": "markdown",
   "metadata": {
    "id": "C3P7iLmBaOf_"
   },
   "source": [
    "Finding out where all the negative and values are present"
   ]
  },
  {
   "cell_type": "code",
   "execution_count": 12,
   "metadata": {
    "colab": {
     "base_uri": "https://localhost:8080/"
    },
    "executionInfo": {
     "elapsed": 45,
     "status": "ok",
     "timestamp": 1625570666196,
     "user": {
      "displayName": "Kinjal Toshniwal",
      "photoUrl": "",
      "userId": "12129278458264247337"
     },
     "user_tz": -330
    },
    "id": "NnQlT7rw9_PX",
    "outputId": "7177a24e-fdaa-4552-d5ff-ffa924ffe3ec"
   },
   "outputs": [
    {
     "name": "stdout",
     "output_type": "stream",
     "text": [
      "Number of rows where negative values are present :  10626\n",
      "\n",
      "Are negative values in both Quantity and UnitPrice present in same row : No\n",
      "\n",
      "Are negative or 0 values in both Quantity and UnitPrice present in same row : Yes\n",
      "What is the customer ID of such rows : [nan]\n"
     ]
    }
   ],
   "source": [
    "print(\"Number of rows where negative values are present : \", \n",
    "      df[(df['Quantity']<0) | (df['UnitPrice']<0)].shape[0])\n",
    "\n",
    "print(\"\\nAre negative values in both Quantity and UnitPrice present in same row : \", end=\"\")\n",
    "if df[(df['Quantity']<0) & (df['UnitPrice']<0)].shape[0]==0:\n",
    "  print(\"No\")\n",
    "else:\n",
    "  print(\"Yes\")\n",
    "\n",
    "print(\"\\nAre negative or 0 values in both Quantity and UnitPrice present in same row : \", end=\"\")\n",
    "if df[(df['Quantity']<=0) & (df['UnitPrice']<=0)].shape[0]==0:\n",
    "  print(\"No\")\n",
    "else:\n",
    "  print(\"Yes\")\n",
    "\n",
    "print(\"What is the customer ID of such rows :\",\n",
    "      df.loc[(df.Quantity<=0) & (df.UnitPrice<=0), ['CustomerID']].CustomerID.unique())"
   ]
  },
  {
   "cell_type": "code",
   "execution_count": 13,
   "metadata": {
    "colab": {
     "base_uri": "https://localhost:8080/"
    },
    "executionInfo": {
     "elapsed": 38,
     "status": "ok",
     "timestamp": 1625570666198,
     "user": {
      "displayName": "Kinjal Toshniwal",
      "photoUrl": "",
      "userId": "12129278458264247337"
     },
     "user_tz": -330
    },
    "id": "H0Zh_hrjbuSy",
    "outputId": "b213ec53-f28a-4e1e-a607-95ac19cb6812"
   },
   "outputs": [
    {
     "name": "stdout",
     "output_type": "stream",
     "text": [
      "Invoice Numbers of rows with quantity having negative values : \n",
      "141       C536379\n",
      "154       C536383\n",
      "235       C536391\n",
      "236       C536391\n",
      "237       C536391\n",
      "           ...   \n",
      "540449    C581490\n",
      "541541    C581499\n",
      "541715    C581568\n",
      "541716    C581569\n",
      "541717    C581569\n",
      "Name: InvoiceNo, Length: 8905, dtype: object\n",
      "\n",
      "All the Invoice Numbers start with :  ['C']\n"
     ]
    }
   ],
   "source": [
    "print(\"Invoice Numbers of rows with quantity having negative values : \") \n",
    "print(df.loc[(df.Quantity<0) & ~(df.CustomerID.isnull()), 'InvoiceNo'])\n",
    "print(\"\\nAll the Invoice Numbers start with : \", df.loc[(df.Quantity<0) & ~(df.CustomerID.isnull()), 'InvoiceNo'].apply(lambda x: x[0]).unique())"
   ]
  },
  {
   "cell_type": "code",
   "execution_count": 14,
   "metadata": {
    "colab": {
     "base_uri": "https://localhost:8080/",
     "height": 735
    },
    "executionInfo": {
     "elapsed": 639,
     "status": "ok",
     "timestamp": 1625570666805,
     "user": {
      "displayName": "Kinjal Toshniwal",
      "photoUrl": "",
      "userId": "12129278458264247337"
     },
     "user_tz": -330
    },
    "id": "K_qUI4JfbyYi",
    "outputId": "daf9eed9-ea4a-48f4-f9cc-8b9a32cf7f18"
   },
   "outputs": [
    {
     "name": "stdout",
     "output_type": "stream",
     "text": [
      "Invoice Numbers of rows with UnitPrice having negative values : \n"
     ]
    },
    {
     "data": {
      "text/html": [
       "<div>\n",
       "<style scoped>\n",
       "    .dataframe tbody tr th:only-of-type {\n",
       "        vertical-align: middle;\n",
       "    }\n",
       "\n",
       "    .dataframe tbody tr th {\n",
       "        vertical-align: top;\n",
       "    }\n",
       "\n",
       "    .dataframe thead th {\n",
       "        text-align: right;\n",
       "    }\n",
       "</style>\n",
       "<table border=\"1\" class=\"dataframe\">\n",
       "  <thead>\n",
       "    <tr style=\"text-align: right;\">\n",
       "      <th></th>\n",
       "      <th>InvoiceNo</th>\n",
       "      <th>StockCode</th>\n",
       "      <th>Description</th>\n",
       "      <th>Quantity</th>\n",
       "      <th>InvoiceDate</th>\n",
       "      <th>UnitPrice</th>\n",
       "      <th>CustomerID</th>\n",
       "      <th>Country</th>\n",
       "    </tr>\n",
       "  </thead>\n",
       "  <tbody>\n",
       "    <tr>\n",
       "      <th>299983</th>\n",
       "      <td>A563186</td>\n",
       "      <td>B</td>\n",
       "      <td>Adjust bad debt</td>\n",
       "      <td>1</td>\n",
       "      <td>2011-08-12 14:51:00</td>\n",
       "      <td>-11062.06</td>\n",
       "      <td>NaN</td>\n",
       "      <td>United Kingdom</td>\n",
       "    </tr>\n",
       "    <tr>\n",
       "      <th>299984</th>\n",
       "      <td>A563187</td>\n",
       "      <td>B</td>\n",
       "      <td>Adjust bad debt</td>\n",
       "      <td>1</td>\n",
       "      <td>2011-08-12 14:52:00</td>\n",
       "      <td>-11062.06</td>\n",
       "      <td>NaN</td>\n",
       "      <td>United Kingdom</td>\n",
       "    </tr>\n",
       "  </tbody>\n",
       "</table>\n",
       "</div>"
      ],
      "text/plain": [
       "       InvoiceNo StockCode      Description  Quantity         InvoiceDate  \\\n",
       "299983   A563186         B  Adjust bad debt         1 2011-08-12 14:51:00   \n",
       "299984   A563187         B  Adjust bad debt         1 2011-08-12 14:52:00   \n",
       "\n",
       "        UnitPrice  CustomerID         Country  \n",
       "299983  -11062.06         NaN  United Kingdom  \n",
       "299984  -11062.06         NaN  United Kingdom  "
      ]
     },
     "metadata": {},
     "output_type": "display_data"
    },
    {
     "name": "stdout",
     "output_type": "stream",
     "text": [
      "\n",
      "All the Invoice Numbers start with :  ['A']\n",
      "\n",
      "Invoice Numbers of rows with UnitPrice having 0 values : \n"
     ]
    },
    {
     "data": {
      "text/html": [
       "<div>\n",
       "<style scoped>\n",
       "    .dataframe tbody tr th:only-of-type {\n",
       "        vertical-align: middle;\n",
       "    }\n",
       "\n",
       "    .dataframe tbody tr th {\n",
       "        vertical-align: top;\n",
       "    }\n",
       "\n",
       "    .dataframe thead th {\n",
       "        text-align: right;\n",
       "    }\n",
       "</style>\n",
       "<table border=\"1\" class=\"dataframe\">\n",
       "  <thead>\n",
       "    <tr style=\"text-align: right;\">\n",
       "      <th></th>\n",
       "      <th>InvoiceNo</th>\n",
       "      <th>StockCode</th>\n",
       "      <th>Description</th>\n",
       "      <th>Quantity</th>\n",
       "      <th>InvoiceDate</th>\n",
       "      <th>UnitPrice</th>\n",
       "      <th>CustomerID</th>\n",
       "      <th>Country</th>\n",
       "    </tr>\n",
       "  </thead>\n",
       "  <tbody>\n",
       "    <tr>\n",
       "      <th>9302</th>\n",
       "      <td>537197</td>\n",
       "      <td>22841</td>\n",
       "      <td>ROUND CAKE TIN VINTAGE GREEN</td>\n",
       "      <td>1</td>\n",
       "      <td>2010-12-05 14:02:00</td>\n",
       "      <td>0.0</td>\n",
       "      <td>12647.0</td>\n",
       "      <td>Germany</td>\n",
       "    </tr>\n",
       "    <tr>\n",
       "      <th>33576</th>\n",
       "      <td>539263</td>\n",
       "      <td>22580</td>\n",
       "      <td>ADVENT CALENDAR GINGHAM SACK</td>\n",
       "      <td>4</td>\n",
       "      <td>2010-12-16 14:36:00</td>\n",
       "      <td>0.0</td>\n",
       "      <td>16560.0</td>\n",
       "      <td>United Kingdom</td>\n",
       "    </tr>\n",
       "    <tr>\n",
       "      <th>40089</th>\n",
       "      <td>539722</td>\n",
       "      <td>22423</td>\n",
       "      <td>REGENCY CAKESTAND 3 TIER</td>\n",
       "      <td>10</td>\n",
       "      <td>2010-12-21 13:45:00</td>\n",
       "      <td>0.0</td>\n",
       "      <td>14911.0</td>\n",
       "      <td>EIRE</td>\n",
       "    </tr>\n",
       "    <tr>\n",
       "      <th>47068</th>\n",
       "      <td>540372</td>\n",
       "      <td>22090</td>\n",
       "      <td>PAPER BUNTING RETROSPOT</td>\n",
       "      <td>24</td>\n",
       "      <td>2011-01-06 16:41:00</td>\n",
       "      <td>0.0</td>\n",
       "      <td>13081.0</td>\n",
       "      <td>United Kingdom</td>\n",
       "    </tr>\n",
       "    <tr>\n",
       "      <th>47070</th>\n",
       "      <td>540372</td>\n",
       "      <td>22553</td>\n",
       "      <td>PLASTERS IN TIN SKULLS</td>\n",
       "      <td>24</td>\n",
       "      <td>2011-01-06 16:41:00</td>\n",
       "      <td>0.0</td>\n",
       "      <td>13081.0</td>\n",
       "      <td>United Kingdom</td>\n",
       "    </tr>\n",
       "    <tr>\n",
       "      <th>56674</th>\n",
       "      <td>541109</td>\n",
       "      <td>22168</td>\n",
       "      <td>ORGANISER WOOD ANTIQUE WHITE</td>\n",
       "      <td>1</td>\n",
       "      <td>2011-01-13 15:10:00</td>\n",
       "      <td>0.0</td>\n",
       "      <td>15107.0</td>\n",
       "      <td>United Kingdom</td>\n",
       "    </tr>\n",
       "    <tr>\n",
       "      <th>86789</th>\n",
       "      <td>543599</td>\n",
       "      <td>84535B</td>\n",
       "      <td>FAIRY CAKES NOTEBOOK A6 SIZE</td>\n",
       "      <td>16</td>\n",
       "      <td>2011-02-10 13:08:00</td>\n",
       "      <td>0.0</td>\n",
       "      <td>17560.0</td>\n",
       "      <td>United Kingdom</td>\n",
       "    </tr>\n",
       "    <tr>\n",
       "      <th>130188</th>\n",
       "      <td>547417</td>\n",
       "      <td>22062</td>\n",
       "      <td>CERAMIC BOWL WITH LOVE HEART DESIGN</td>\n",
       "      <td>36</td>\n",
       "      <td>2011-03-23 10:25:00</td>\n",
       "      <td>0.0</td>\n",
       "      <td>13239.0</td>\n",
       "      <td>United Kingdom</td>\n",
       "    </tr>\n",
       "    <tr>\n",
       "      <th>139453</th>\n",
       "      <td>548318</td>\n",
       "      <td>22055</td>\n",
       "      <td>MINI CAKE STAND  HANGING STRAWBERY</td>\n",
       "      <td>5</td>\n",
       "      <td>2011-03-30 12:45:00</td>\n",
       "      <td>0.0</td>\n",
       "      <td>13113.0</td>\n",
       "      <td>United Kingdom</td>\n",
       "    </tr>\n",
       "    <tr>\n",
       "      <th>145208</th>\n",
       "      <td>548871</td>\n",
       "      <td>22162</td>\n",
       "      <td>HEART GARLAND RUSTIC PADDED</td>\n",
       "      <td>2</td>\n",
       "      <td>2011-04-04 14:42:00</td>\n",
       "      <td>0.0</td>\n",
       "      <td>14410.0</td>\n",
       "      <td>United Kingdom</td>\n",
       "    </tr>\n",
       "  </tbody>\n",
       "</table>\n",
       "</div>"
      ],
      "text/plain": [
       "       InvoiceNo StockCode                          Description  Quantity  \\\n",
       "9302      537197     22841         ROUND CAKE TIN VINTAGE GREEN         1   \n",
       "33576     539263     22580         ADVENT CALENDAR GINGHAM SACK         4   \n",
       "40089     539722     22423             REGENCY CAKESTAND 3 TIER        10   \n",
       "47068     540372     22090              PAPER BUNTING RETROSPOT        24   \n",
       "47070     540372     22553               PLASTERS IN TIN SKULLS        24   \n",
       "56674     541109     22168        ORGANISER WOOD ANTIQUE WHITE          1   \n",
       "86789     543599    84535B         FAIRY CAKES NOTEBOOK A6 SIZE        16   \n",
       "130188    547417     22062  CERAMIC BOWL WITH LOVE HEART DESIGN        36   \n",
       "139453    548318     22055   MINI CAKE STAND  HANGING STRAWBERY         5   \n",
       "145208    548871     22162          HEART GARLAND RUSTIC PADDED         2   \n",
       "\n",
       "               InvoiceDate  UnitPrice  CustomerID         Country  \n",
       "9302   2010-12-05 14:02:00        0.0     12647.0         Germany  \n",
       "33576  2010-12-16 14:36:00        0.0     16560.0  United Kingdom  \n",
       "40089  2010-12-21 13:45:00        0.0     14911.0            EIRE  \n",
       "47068  2011-01-06 16:41:00        0.0     13081.0  United Kingdom  \n",
       "47070  2011-01-06 16:41:00        0.0     13081.0  United Kingdom  \n",
       "56674  2011-01-13 15:10:00        0.0     15107.0  United Kingdom  \n",
       "86789  2011-02-10 13:08:00        0.0     17560.0  United Kingdom  \n",
       "130188 2011-03-23 10:25:00        0.0     13239.0  United Kingdom  \n",
       "139453 2011-03-30 12:45:00        0.0     13113.0  United Kingdom  \n",
       "145208 2011-04-04 14:42:00        0.0     14410.0  United Kingdom  "
      ]
     },
     "metadata": {},
     "output_type": "display_data"
    },
    {
     "name": "stdout",
     "output_type": "stream",
     "text": [
      "Total number of rows :  40\n"
     ]
    }
   ],
   "source": [
    "print(\"Invoice Numbers of rows with UnitPrice having negative values : \") \n",
    "display(df[(df.UnitPrice<0) & (df.CustomerID.isnull())])\n",
    "print(\"\\nAll the Invoice Numbers start with : \", df.loc[(df.UnitPrice<0) & (df.CustomerID.isnull()), 'InvoiceNo'].apply(lambda x: x[0]).unique())\n",
    "\n",
    "print(\"\\nInvoice Numbers of rows with UnitPrice having 0 values : \") \n",
    "display(df[(df.UnitPrice==0) & ~(df.CustomerID.isnull())].head(10))\n",
    "print(\"Total number of rows : \", df[(df.UnitPrice==0) & ~(df.CustomerID.isnull())].shape[0])\n",
    "#print(\"\\nAll the Invoice Numbers start with : \", df.loc[(df.UnitPrice==0) & ~(df.CustomerID.isnull()), 'InvoiceNo'].apply(lambda x: x[0]).unique())"
   ]
  },
  {
   "cell_type": "markdown",
   "metadata": {
    "id": "Fv4K3Qvzb7u-"
   },
   "source": [
    "\n",
    "Dropping the rows having negative and null values based on what we found above"
   ]
  },
  {
   "cell_type": "code",
   "execution_count": 15,
   "metadata": {
    "colab": {
     "base_uri": "https://localhost:8080/",
     "height": 580
    },
    "executionInfo": {
     "elapsed": 506,
     "status": "ok",
     "timestamp": 1625570667305,
     "user": {
      "displayName": "Kinjal Toshniwal",
      "photoUrl": "",
      "userId": "12129278458264247337"
     },
     "user_tz": -330
    },
    "id": "WiV0hoqGb2fe",
    "outputId": "f0639497-dae8-4696-ea1b-04e8739eba58"
   },
   "outputs": [
    {
     "data": {
      "text/html": [
       "<div>\n",
       "<style scoped>\n",
       "    .dataframe tbody tr th:only-of-type {\n",
       "        vertical-align: middle;\n",
       "    }\n",
       "\n",
       "    .dataframe tbody tr th {\n",
       "        vertical-align: top;\n",
       "    }\n",
       "\n",
       "    .dataframe thead th {\n",
       "        text-align: right;\n",
       "    }\n",
       "</style>\n",
       "<table border=\"1\" class=\"dataframe\">\n",
       "  <thead>\n",
       "    <tr style=\"text-align: right;\">\n",
       "      <th></th>\n",
       "      <th>dtypes</th>\n",
       "      <th>counts</th>\n",
       "      <th>distincts</th>\n",
       "      <th>nulls</th>\n",
       "      <th>missing_percent</th>\n",
       "      <th>uniques</th>\n",
       "      <th>skewness</th>\n",
       "      <th>kurtosis</th>\n",
       "    </tr>\n",
       "  </thead>\n",
       "  <tbody>\n",
       "    <tr>\n",
       "      <th>InvoiceNo</th>\n",
       "      <td>object</td>\n",
       "      <td>397884</td>\n",
       "      <td>18532</td>\n",
       "      <td>0</td>\n",
       "      <td>0.0</td>\n",
       "      <td>[536365, 536366, 536367, 536368, 536369, 53637...</td>\n",
       "      <td>-0.178524</td>\n",
       "      <td>-1.200748</td>\n",
       "    </tr>\n",
       "    <tr>\n",
       "      <th>InvoiceDate</th>\n",
       "      <td>datetime64[ns]</td>\n",
       "      <td>397884</td>\n",
       "      <td>17282</td>\n",
       "      <td>0</td>\n",
       "      <td>0.0</td>\n",
       "      <td>[2010-12-01T08:26:00.000000000, 2010-12-01T08:...</td>\n",
       "      <td>NaN</td>\n",
       "      <td>NaN</td>\n",
       "    </tr>\n",
       "    <tr>\n",
       "      <th>CustomerID</th>\n",
       "      <td>float64</td>\n",
       "      <td>397884</td>\n",
       "      <td>4338</td>\n",
       "      <td>0</td>\n",
       "      <td>0.0</td>\n",
       "      <td>[17850.0, 13047.0, 12583.0, 13748.0, 15100.0, ...</td>\n",
       "      <td>0.025729</td>\n",
       "      <td>-1.180822</td>\n",
       "    </tr>\n",
       "    <tr>\n",
       "      <th>Description</th>\n",
       "      <td>object</td>\n",
       "      <td>397884</td>\n",
       "      <td>3877</td>\n",
       "      <td>0</td>\n",
       "      <td>0.0</td>\n",
       "      <td>[WHITE HANGING HEART T-LIGHT HOLDER, WHITE MET...</td>\n",
       "      <td>NaN</td>\n",
       "      <td>NaN</td>\n",
       "    </tr>\n",
       "    <tr>\n",
       "      <th>StockCode</th>\n",
       "      <td>object</td>\n",
       "      <td>397884</td>\n",
       "      <td>3665</td>\n",
       "      <td>0</td>\n",
       "      <td>0.0</td>\n",
       "      <td>[85123A, 71053, 84406B, 84029G, 84029E, 22752,...</td>\n",
       "      <td>NaN</td>\n",
       "      <td>NaN</td>\n",
       "    </tr>\n",
       "    <tr>\n",
       "      <th>UnitPrice</th>\n",
       "      <td>float64</td>\n",
       "      <td>397884</td>\n",
       "      <td>440</td>\n",
       "      <td>0</td>\n",
       "      <td>0.0</td>\n",
       "      <td>[2.55, 3.39, 2.75, 7.65, 4.25, 1.85, 1.69, 2.1...</td>\n",
       "      <td>204.032727</td>\n",
       "      <td>58140.396673</td>\n",
       "    </tr>\n",
       "    <tr>\n",
       "      <th>Quantity</th>\n",
       "      <td>int64</td>\n",
       "      <td>397884</td>\n",
       "      <td>301</td>\n",
       "      <td>0</td>\n",
       "      <td>0.0</td>\n",
       "      <td>[6, 8, 2, 32, 3, 4, 24, 12, 48, 18, 20, 36, 80...</td>\n",
       "      <td>409.892972</td>\n",
       "      <td>178186.243253</td>\n",
       "    </tr>\n",
       "    <tr>\n",
       "      <th>Country</th>\n",
       "      <td>object</td>\n",
       "      <td>397884</td>\n",
       "      <td>37</td>\n",
       "      <td>0</td>\n",
       "      <td>0.0</td>\n",
       "      <td>[United Kingdom, France, Australia, Netherland...</td>\n",
       "      <td>NaN</td>\n",
       "      <td>NaN</td>\n",
       "    </tr>\n",
       "  </tbody>\n",
       "</table>\n",
       "</div>"
      ],
      "text/plain": [
       "                     dtypes  counts  distincts  nulls  missing_percent  \\\n",
       "InvoiceNo            object  397884      18532      0              0.0   \n",
       "InvoiceDate  datetime64[ns]  397884      17282      0              0.0   \n",
       "CustomerID          float64  397884       4338      0              0.0   \n",
       "Description          object  397884       3877      0              0.0   \n",
       "StockCode            object  397884       3665      0              0.0   \n",
       "UnitPrice           float64  397884        440      0              0.0   \n",
       "Quantity              int64  397884        301      0              0.0   \n",
       "Country              object  397884         37      0              0.0   \n",
       "\n",
       "                                                       uniques    skewness  \\\n",
       "InvoiceNo    [536365, 536366, 536367, 536368, 536369, 53637...   -0.178524   \n",
       "InvoiceDate  [2010-12-01T08:26:00.000000000, 2010-12-01T08:...         NaN   \n",
       "CustomerID   [17850.0, 13047.0, 12583.0, 13748.0, 15100.0, ...    0.025729   \n",
       "Description  [WHITE HANGING HEART T-LIGHT HOLDER, WHITE MET...         NaN   \n",
       "StockCode    [85123A, 71053, 84406B, 84029G, 84029E, 22752,...         NaN   \n",
       "UnitPrice    [2.55, 3.39, 2.75, 7.65, 4.25, 1.85, 1.69, 2.1...  204.032727   \n",
       "Quantity     [6, 8, 2, 32, 3, 4, 24, 12, 48, 18, 20, 36, 80...  409.892972   \n",
       "Country      [United Kingdom, France, Australia, Netherland...         NaN   \n",
       "\n",
       "                  kurtosis  \n",
       "InvoiceNo        -1.200748  \n",
       "InvoiceDate            NaN  \n",
       "CustomerID       -1.180822  \n",
       "Description            NaN  \n",
       "StockCode              NaN  \n",
       "UnitPrice     58140.396673  \n",
       "Quantity     178186.243253  \n",
       "Country                NaN  "
      ]
     },
     "metadata": {},
     "output_type": "display_data"
    },
    {
     "name": "stdout",
     "output_type": "stream",
     "text": [
      "(397884, 8)\n"
     ]
    }
   ],
   "source": [
    "df=df[~(df.CustomerID.isnull())]\n",
    "df = df[~(df.Quantity<0)]\n",
    "df = df[df.UnitPrice>0]\n",
    "df.reset_index()\n",
    "details = descr(df)\n",
    "display(details.sort_values(by='distincts', ascending=False))\n",
    "print(df.shape)"
   ]
  },
  {
   "cell_type": "markdown",
   "metadata": {
    "id": "h5W9bjBBcBnV"
   },
   "source": [
    "Here, we have removed all null and negative values from dataset"
   ]
  },
  {
   "cell_type": "code",
   "execution_count": 16,
   "metadata": {
    "colab": {
     "base_uri": "https://localhost:8080/",
     "height": 300
    },
    "executionInfo": {
     "elapsed": 34,
     "status": "ok",
     "timestamp": 1625570667310,
     "user": {
      "displayName": "Kinjal Toshniwal",
      "photoUrl": "",
      "userId": "12129278458264247337"
     },
     "user_tz": -330
    },
    "id": "-lQ88s4mb9-y",
    "outputId": "4a98701f-dca9-4646-cd9e-aed850b15349"
   },
   "outputs": [
    {
     "data": {
      "text/html": [
       "<div>\n",
       "<style scoped>\n",
       "    .dataframe tbody tr th:only-of-type {\n",
       "        vertical-align: middle;\n",
       "    }\n",
       "\n",
       "    .dataframe tbody tr th {\n",
       "        vertical-align: top;\n",
       "    }\n",
       "\n",
       "    .dataframe thead th {\n",
       "        text-align: right;\n",
       "    }\n",
       "</style>\n",
       "<table border=\"1\" class=\"dataframe\">\n",
       "  <thead>\n",
       "    <tr style=\"text-align: right;\">\n",
       "      <th></th>\n",
       "      <th>Quantity</th>\n",
       "      <th>UnitPrice</th>\n",
       "      <th>CustomerID</th>\n",
       "    </tr>\n",
       "  </thead>\n",
       "  <tbody>\n",
       "    <tr>\n",
       "      <th>count</th>\n",
       "      <td>397884.000000</td>\n",
       "      <td>397884.000000</td>\n",
       "      <td>397884.000000</td>\n",
       "    </tr>\n",
       "    <tr>\n",
       "      <th>mean</th>\n",
       "      <td>12.988238</td>\n",
       "      <td>3.116488</td>\n",
       "      <td>15294.423453</td>\n",
       "    </tr>\n",
       "    <tr>\n",
       "      <th>std</th>\n",
       "      <td>179.331775</td>\n",
       "      <td>22.097877</td>\n",
       "      <td>1713.141560</td>\n",
       "    </tr>\n",
       "    <tr>\n",
       "      <th>min</th>\n",
       "      <td>1.000000</td>\n",
       "      <td>0.001000</td>\n",
       "      <td>12346.000000</td>\n",
       "    </tr>\n",
       "    <tr>\n",
       "      <th>25%</th>\n",
       "      <td>2.000000</td>\n",
       "      <td>1.250000</td>\n",
       "      <td>13969.000000</td>\n",
       "    </tr>\n",
       "    <tr>\n",
       "      <th>50%</th>\n",
       "      <td>6.000000</td>\n",
       "      <td>1.950000</td>\n",
       "      <td>15159.000000</td>\n",
       "    </tr>\n",
       "    <tr>\n",
       "      <th>75%</th>\n",
       "      <td>12.000000</td>\n",
       "      <td>3.750000</td>\n",
       "      <td>16795.000000</td>\n",
       "    </tr>\n",
       "    <tr>\n",
       "      <th>max</th>\n",
       "      <td>80995.000000</td>\n",
       "      <td>8142.750000</td>\n",
       "      <td>18287.000000</td>\n",
       "    </tr>\n",
       "  </tbody>\n",
       "</table>\n",
       "</div>"
      ],
      "text/plain": [
       "            Quantity      UnitPrice     CustomerID\n",
       "count  397884.000000  397884.000000  397884.000000\n",
       "mean       12.988238       3.116488   15294.423453\n",
       "std       179.331775      22.097877    1713.141560\n",
       "min         1.000000       0.001000   12346.000000\n",
       "25%         2.000000       1.250000   13969.000000\n",
       "50%         6.000000       1.950000   15159.000000\n",
       "75%        12.000000       3.750000   16795.000000\n",
       "max     80995.000000    8142.750000   18287.000000"
      ]
     },
     "execution_count": 16,
     "metadata": {},
     "output_type": "execute_result"
    }
   ],
   "source": [
    "df.describe()"
   ]
  },
  {
   "cell_type": "code",
   "execution_count": 17,
   "metadata": {
    "executionInfo": {
     "elapsed": 32,
     "status": "ok",
     "timestamp": 1625570931966,
     "user": {
      "displayName": "Kinjal Toshniwal",
      "photoUrl": "",
      "userId": "12129278458264247337"
     },
     "user_tz": -330
    },
    "id": "SfP4Zgd8cI_s"
   },
   "outputs": [],
   "source": [
    "dfv=df.copy()                               #making a copy of DataFrame "
   ]
  },
  {
   "cell_type": "markdown",
   "metadata": {
    "id": "ujne8aA-oRVr"
   },
   "source": [
    "\n",
    "Assigning numerical values to all the elements in StockCode"
   ]
  },
  {
   "cell_type": "code",
   "execution_count": 18,
   "metadata": {
    "executionInfo": {
     "elapsed": 31,
     "status": "ok",
     "timestamp": 1625570931967,
     "user": {
      "displayName": "Kinjal Toshniwal",
      "photoUrl": "",
      "userId": "12129278458264247337"
     },
     "user_tz": -330
    },
    "id": "hA0cJ636oR_u"
   },
   "outputs": [],
   "source": [
    "x=dfv['StockCode'].value_counts()\n",
    "item_type_mapping={}\n",
    "item_list=x.index\n",
    "for i in range(0,len(item_list)):\n",
    "    item_type_mapping[item_list[i]]=i\n",
    "\n",
    "dfv['StockCode']=dfv['StockCode'].map(lambda x:item_type_mapping[x]) "
   ]
  },
  {
   "cell_type": "markdown",
   "metadata": {
    "id": "vZShYgxsonZd"
   },
   "source": [
    "Adding 'amount column which shows total amount spent by the customer"
   ]
  },
  {
   "cell_type": "code",
   "execution_count": 19,
   "metadata": {
    "colab": {
     "base_uri": "https://localhost:8080/"
    },
    "executionInfo": {
     "elapsed": 31,
     "status": "ok",
     "timestamp": 1625570931968,
     "user": {
      "displayName": "Kinjal Toshniwal",
      "photoUrl": "",
      "userId": "12129278458264247337"
     },
     "user_tz": -330
    },
    "id": "YemTDiEGolal",
    "outputId": "9f2bec7b-2831-4158-9889-86af5d9ec9f1"
   },
   "outputs": [
    {
     "data": {
      "text/plain": [
       "0         15.30\n",
       "1         20.34\n",
       "2         22.00\n",
       "3         20.34\n",
       "4         20.34\n",
       "          ...  \n",
       "541904    10.20\n",
       "541905    12.60\n",
       "541906    16.60\n",
       "541907    16.60\n",
       "541908    14.85\n",
       "Name: amount, Length: 397884, dtype: float64"
      ]
     },
     "execution_count": 19,
     "metadata": {},
     "output_type": "execute_result"
    }
   ],
   "source": [
    "dfv['amount'] = dfv.Quantity*dfv.UnitPrice\n",
    "dfv['amount']"
   ]
  },
  {
   "cell_type": "markdown",
   "metadata": {
    "id": "dJLsU4PWoyM9"
   },
   "source": [
    "#Data Visualisation"
   ]
  },
  {
   "cell_type": "code",
   "execution_count": 20,
   "metadata": {
    "colab": {
     "base_uri": "https://localhost:8080/",
     "height": 287
    },
    "executionInfo": {
     "elapsed": 628,
     "status": "ok",
     "timestamp": 1625570932571,
     "user": {
      "displayName": "Kinjal Toshniwal",
      "photoUrl": "",
      "userId": "12129278458264247337"
     },
     "user_tz": -330
    },
    "id": "fdtR4Natot6b",
    "outputId": "7fcc8c42-f446-43a9-8a6c-a82c5e3893e7"
   },
   "outputs": [
    {
     "data": {
      "text/plain": [
       "<AxesSubplot:>"
      ]
     },
     "execution_count": 20,
     "metadata": {},
     "output_type": "execute_result"
    },
    {
     "data": {
      "image/png": "[encoded data removed]",
      "text/plain": [
       "<Figure size 432x288 with 2 Axes>"
      ]
     },
     "metadata": {
      "needs_background": "light"
     },
     "output_type": "display_data"
    }
   ],
   "source": [
    "sns.heatmap(dfv.corr(), cmap=\"YlGnBu\", annot=True)"
   ]
  },
  {
   "cell_type": "code",
   "execution_count": 21,
   "metadata": {
    "colab": {
     "base_uri": "https://localhost:8080/",
     "height": 755
    },
    "executionInfo": {
     "elapsed": 63448,
     "status": "ok",
     "timestamp": 1625570996016,
     "user": {
      "displayName": "Kinjal Toshniwal",
      "photoUrl": "",
      "userId": "12129278458264247337"
     },
     "user_tz": -330
    },
    "id": "FX-myMMwkIXA",
    "outputId": "c2ae5910-b0b0-4e60-a0c0-d07a82049555"
   },
   "outputs": [
    {
     "data": {
      "text/plain": [
       "array([[<AxesSubplot:xlabel='StockCode', ylabel='StockCode'>,\n",
       "        <AxesSubplot:xlabel='Quantity', ylabel='StockCode'>,\n",
       "        <AxesSubplot:xlabel='UnitPrice', ylabel='StockCode'>,\n",
       "        <AxesSubplot:xlabel='CustomerID', ylabel='StockCode'>,\n",
       "        <AxesSubplot:xlabel='amount', ylabel='StockCode'>],\n",
       "       [<AxesSubplot:xlabel='StockCode', ylabel='Quantity'>,\n",
       "        <AxesSubplot:xlabel='Quantity', ylabel='Quantity'>,\n",
       "        <AxesSubplot:xlabel='UnitPrice', ylabel='Quantity'>,\n",
       "        <AxesSubplot:xlabel='CustomerID', ylabel='Quantity'>,\n",
       "        <AxesSubplot:xlabel='amount', ylabel='Quantity'>],\n",
       "       [<AxesSubplot:xlabel='StockCode', ylabel='UnitPrice'>,\n",
       "        <AxesSubplot:xlabel='Quantity', ylabel='UnitPrice'>,\n",
       "        <AxesSubplot:xlabel='UnitPrice', ylabel='UnitPrice'>,\n",
       "        <AxesSubplot:xlabel='CustomerID', ylabel='UnitPrice'>,\n",
       "        <AxesSubplot:xlabel='amount', ylabel='UnitPrice'>],\n",
       "       [<AxesSubplot:xlabel='StockCode', ylabel='CustomerID'>,\n",
       "        <AxesSubplot:xlabel='Quantity', ylabel='CustomerID'>,\n",
       "        <AxesSubplot:xlabel='UnitPrice', ylabel='CustomerID'>,\n",
       "        <AxesSubplot:xlabel='CustomerID', ylabel='CustomerID'>,\n",
       "        <AxesSubplot:xlabel='amount', ylabel='CustomerID'>],\n",
       "       [<AxesSubplot:xlabel='StockCode', ylabel='amount'>,\n",
       "        <AxesSubplot:xlabel='Quantity', ylabel='amount'>,\n",
       "        <AxesSubplot:xlabel='UnitPrice', ylabel='amount'>,\n",
       "        <AxesSubplot:xlabel='CustomerID', ylabel='amount'>,\n",
       "        <AxesSubplot:xlabel='amount', ylabel='amount'>]], dtype=object)"
      ]
     },
     "execution_count": 21,
     "metadata": {},
     "output_type": "execute_result"
    },
    {
     "data": {
      "image/png": "[encoded data removed]",
      "text/plain": [
       "<Figure size 432x288 with 25 Axes>"
      ]
     },
     "metadata": {
      "needs_background": "light"
     },
     "output_type": "display_data"
    }
   ],
   "source": [
    "pd.plotting.scatter_matrix(dfv)"
   ]
  },
  {
   "cell_type": "code",
   "execution_count": 22,
   "metadata": {
    "executionInfo": {
     "elapsed": 16,
     "status": "ok",
     "timestamp": 1625570996017,
     "user": {
      "displayName": "Kinjal Toshniwal",
      "photoUrl": "",
      "userId": "12129278458264247337"
     },
     "user_tz": -330
    },
    "id": "pf2rEzDHqhxn"
   },
   "outputs": [],
   "source": [
    "dfv = dfv[~(dfv.Quantity>dfv.Quantity.quantile(0.95))]\n",
    "dfv = dfv[~(dfv.UnitPrice>dfv.UnitPrice.quantile(0.95))]"
   ]
  },
  {
   "cell_type": "code",
   "execution_count": 23,
   "metadata": {
    "colab": {
     "base_uri": "https://localhost:8080/",
     "height": 750
    },
    "executionInfo": {
     "elapsed": 58891,
     "status": "ok",
     "timestamp": 1625570931962,
     "user": {
      "displayName": "Kinjal Toshniwal",
      "photoUrl": "",
      "userId": "12129278458264247337"
     },
     "user_tz": -330
    },
    "id": "cDkTnqiKceEy",
    "outputId": "ad3a8073-b4d8-4284-e707-e6af83c9576f"
   },
   "outputs": [
    {
     "data": {
      "text/plain": [
       "array([[<AxesSubplot:xlabel='StockCode', ylabel='StockCode'>,\n",
       "        <AxesSubplot:xlabel='Quantity', ylabel='StockCode'>,\n",
       "        <AxesSubplot:xlabel='UnitPrice', ylabel='StockCode'>,\n",
       "        <AxesSubplot:xlabel='CustomerID', ylabel='StockCode'>,\n",
       "        <AxesSubplot:xlabel='amount', ylabel='StockCode'>],\n",
       "       [<AxesSubplot:xlabel='StockCode', ylabel='Quantity'>,\n",
       "        <AxesSubplot:xlabel='Quantity', ylabel='Quantity'>,\n",
       "        <AxesSubplot:xlabel='UnitPrice', ylabel='Quantity'>,\n",
       "        <AxesSubplot:xlabel='CustomerID', ylabel='Quantity'>,\n",
       "        <AxesSubplot:xlabel='amount', ylabel='Quantity'>],\n",
       "       [<AxesSubplot:xlabel='StockCode', ylabel='UnitPrice'>,\n",
       "        <AxesSubplot:xlabel='Quantity', ylabel='UnitPrice'>,\n",
       "        <AxesSubplot:xlabel='UnitPrice', ylabel='UnitPrice'>,\n",
       "        <AxesSubplot:xlabel='CustomerID', ylabel='UnitPrice'>,\n",
       "        <AxesSubplot:xlabel='amount', ylabel='UnitPrice'>],\n",
       "       [<AxesSubplot:xlabel='StockCode', ylabel='CustomerID'>,\n",
       "        <AxesSubplot:xlabel='Quantity', ylabel='CustomerID'>,\n",
       "        <AxesSubplot:xlabel='UnitPrice', ylabel='CustomerID'>,\n",
       "        <AxesSubplot:xlabel='CustomerID', ylabel='CustomerID'>,\n",
       "        <AxesSubplot:xlabel='amount', ylabel='CustomerID'>],\n",
       "       [<AxesSubplot:xlabel='StockCode', ylabel='amount'>,\n",
       "        <AxesSubplot:xlabel='Quantity', ylabel='amount'>,\n",
       "        <AxesSubplot:xlabel='UnitPrice', ylabel='amount'>,\n",
       "        <AxesSubplot:xlabel='CustomerID', ylabel='amount'>,\n",
       "        <AxesSubplot:xlabel='amount', ylabel='amount'>]], dtype=object)"
      ]
     },
     "execution_count": 23,
     "metadata": {},
     "output_type": "execute_result"
    },
    {
     "data": {
      "image/png": "[encoded data removed]",
      "text/plain": [
       "<Figure size 432x288 with 25 Axes>"
      ]
     },
     "metadata": {
      "needs_background": "light"
     },
     "output_type": "display_data"
    }
   ],
   "source": [
    "pd.plotting.scatter_matrix(dfv)"
   ]
  },
  {
   "cell_type": "code",
   "execution_count": 24,
   "metadata": {
    "colab": {
     "base_uri": "https://localhost:8080/",
     "height": 300
    },
    "executionInfo": {
     "elapsed": 35,
     "status": "ok",
     "timestamp": 1625570931964,
     "user": {
      "displayName": "Kinjal Toshniwal",
      "photoUrl": "",
      "userId": "12129278458264247337"
     },
     "user_tz": -330
    },
    "id": "-jKb29swkpn9",
    "outputId": "c3423adf-e06a-49b2-cb0a-780badb6f6e4"
   },
   "outputs": [
    {
     "data": {
      "text/html": [
       "<div>\n",
       "<style scoped>\n",
       "    .dataframe tbody tr th:only-of-type {\n",
       "        vertical-align: middle;\n",
       "    }\n",
       "\n",
       "    .dataframe tbody tr th {\n",
       "        vertical-align: top;\n",
       "    }\n",
       "\n",
       "    .dataframe thead th {\n",
       "        text-align: right;\n",
       "    }\n",
       "</style>\n",
       "<table border=\"1\" class=\"dataframe\">\n",
       "  <thead>\n",
       "    <tr style=\"text-align: right;\">\n",
       "      <th></th>\n",
       "      <th>StockCode</th>\n",
       "      <th>Quantity</th>\n",
       "      <th>UnitPrice</th>\n",
       "      <th>CustomerID</th>\n",
       "      <th>amount</th>\n",
       "    </tr>\n",
       "  </thead>\n",
       "  <tbody>\n",
       "    <tr>\n",
       "      <th>count</th>\n",
       "      <td>361147.000000</td>\n",
       "      <td>361147.000000</td>\n",
       "      <td>361147.000000</td>\n",
       "      <td>361147.000000</td>\n",
       "      <td>361147.000000</td>\n",
       "    </tr>\n",
       "    <tr>\n",
       "      <th>mean</th>\n",
       "      <td>657.232792</td>\n",
       "      <td>7.689010</td>\n",
       "      <td>2.462422</td>\n",
       "      <td>15317.936577</td>\n",
       "      <td>13.781492</td>\n",
       "    </tr>\n",
       "    <tr>\n",
       "      <th>std</th>\n",
       "      <td>667.813411</td>\n",
       "      <td>7.491245</td>\n",
       "      <td>1.974761</td>\n",
       "      <td>1709.619269</td>\n",
       "      <td>15.557298</td>\n",
       "    </tr>\n",
       "    <tr>\n",
       "      <th>min</th>\n",
       "      <td>0.000000</td>\n",
       "      <td>1.000000</td>\n",
       "      <td>0.001000</td>\n",
       "      <td>12347.000000</td>\n",
       "      <td>0.001000</td>\n",
       "    </tr>\n",
       "    <tr>\n",
       "      <th>25%</th>\n",
       "      <td>135.000000</td>\n",
       "      <td>2.000000</td>\n",
       "      <td>1.250000</td>\n",
       "      <td>13988.000000</td>\n",
       "      <td>4.160000</td>\n",
       "    </tr>\n",
       "    <tr>\n",
       "      <th>50%</th>\n",
       "      <td>429.000000</td>\n",
       "      <td>5.000000</td>\n",
       "      <td>1.690000</td>\n",
       "      <td>15220.000000</td>\n",
       "      <td>10.200000</td>\n",
       "    </tr>\n",
       "    <tr>\n",
       "      <th>75%</th>\n",
       "      <td>978.000000</td>\n",
       "      <td>12.000000</td>\n",
       "      <td>2.950000</td>\n",
       "      <td>16814.000000</td>\n",
       "      <td>17.400000</td>\n",
       "    </tr>\n",
       "    <tr>\n",
       "      <th>max</th>\n",
       "      <td>3664.000000</td>\n",
       "      <td>36.000000</td>\n",
       "      <td>8.500000</td>\n",
       "      <td>18287.000000</td>\n",
       "      <td>306.000000</td>\n",
       "    </tr>\n",
       "  </tbody>\n",
       "</table>\n",
       "</div>"
      ],
      "text/plain": [
       "           StockCode       Quantity      UnitPrice     CustomerID  \\\n",
       "count  361147.000000  361147.000000  361147.000000  361147.000000   \n",
       "mean      657.232792       7.689010       2.462422   15317.936577   \n",
       "std       667.813411       7.491245       1.974761    1709.619269   \n",
       "min         0.000000       1.000000       0.001000   12347.000000   \n",
       "25%       135.000000       2.000000       1.250000   13988.000000   \n",
       "50%       429.000000       5.000000       1.690000   15220.000000   \n",
       "75%       978.000000      12.000000       2.950000   16814.000000   \n",
       "max      3664.000000      36.000000       8.500000   18287.000000   \n",
       "\n",
       "              amount  \n",
       "count  361147.000000  \n",
       "mean       13.781492  \n",
       "std        15.557298  \n",
       "min         0.001000  \n",
       "25%         4.160000  \n",
       "50%        10.200000  \n",
       "75%        17.400000  \n",
       "max       306.000000  "
      ]
     },
     "execution_count": 24,
     "metadata": {},
     "output_type": "execute_result"
    }
   ],
   "source": [
    "dfv.describe()"
   ]
  },
  {
   "cell_type": "code",
   "execution_count": 25,
   "metadata": {
    "colab": {
     "base_uri": "https://localhost:8080/",
     "height": 623
    },
    "executionInfo": {
     "elapsed": 1472,
     "status": "ok",
     "timestamp": 1625571319259,
     "user": {
      "displayName": "Kinjal Toshniwal",
      "photoUrl": "",
      "userId": "12129278458264247337"
     },
     "user_tz": -330
    },
    "id": "xg_3lJqXkulv",
    "outputId": "40c2273b-9279-4e33-c19d-e74cb2d1e3a6"
   },
   "outputs": [
    {
     "data": {
      "text/plain": [
       "<AxesSubplot:xlabel='Country'>"
      ]
     },
     "execution_count": 25,
     "metadata": {},
     "output_type": "execute_result"
    },
    {
     "data": {
      "image/png": "[encoded data removed]",
      "text/plain": [
       "<Figure size 576x576 with 1 Axes>"
      ]
     },
     "metadata": {
      "needs_background": "light"
     },
     "output_type": "display_data"
    }
   ],
   "source": [
    "dfv.groupby('Country')['Quantity'].sum().plot(kind = 'bar', figsize=(8,8))"
   ]
  },
  {
   "cell_type": "code",
   "execution_count": 26,
   "metadata": {
    "colab": {
     "base_uri": "https://localhost:8080/",
     "height": 283
    },
    "executionInfo": {
     "elapsed": 413,
     "status": "ok",
     "timestamp": 1625571341966,
     "user": {
      "displayName": "Kinjal Toshniwal",
      "photoUrl": "",
      "userId": "12129278458264247337"
     },
     "user_tz": -330
    },
    "id": "tdmpOdJ_mdWP",
    "outputId": "d94f8d51-12d0-4432-9ea2-7b469e03a333"
   },
   "outputs": [
    {
     "data": {
      "text/plain": [
       "<AxesSubplot:>"
      ]
     },
     "execution_count": 26,
     "metadata": {},
     "output_type": "execute_result"
    },
    {
     "data": {
      "image/png": "[encoded data removed]",
      "text/plain": [
       "<Figure size 432x288 with 1 Axes>"
      ]
     },
     "metadata": {
      "needs_background": "light"
     },
     "output_type": "display_data"
    }
   ],
   "source": [
    "dfv.Country.value_counts()[-5:].plot(kind='barh',colormap='brg_r')"
   ]
  },
  {
   "cell_type": "markdown",
   "metadata": {
    "id": "mgV_ZVzjmpFu"
   },
   "source": [
    "These are the countries with least sales"
   ]
  },
  {
   "cell_type": "code",
   "execution_count": 27,
   "metadata": {
    "executionInfo": {
     "elapsed": 404,
     "status": "ok",
     "timestamp": 1625571380940,
     "user": {
      "displayName": "Kinjal Toshniwal",
      "photoUrl": "",
      "userId": "12129278458264247337"
     },
     "user_tz": -330
    },
    "id": "xayhCH_nmjJJ"
   },
   "outputs": [],
   "source": [
    "dfv['year'] = dfv['InvoiceDate'].dt.year\n",
    "dfv['month'] = dfv['InvoiceDate'].dt.month\n",
    "dfv['hour'] = dfv['InvoiceDate'].dt.hour\n",
    "dfv['weekday'] = dfv['InvoiceDate'].dt.day_name()"
   ]
  },
  {
   "cell_type": "code",
   "execution_count": 28,
   "metadata": {
    "colab": {
     "base_uri": "https://localhost:8080/",
     "height": 299
    },
    "executionInfo": {
     "elapsed": 448,
     "status": "ok",
     "timestamp": 1625571415798,
     "user": {
      "displayName": "Kinjal Toshniwal",
      "photoUrl": "",
      "userId": "12129278458264247337"
     },
     "user_tz": -330
    },
    "id": "nGfo5VCQmsp5",
    "outputId": "30e15b20-5442-4a70-894c-6bf1308f4b04"
   },
   "outputs": [
    {
     "data": {
      "text/plain": [
       "<AxesSubplot:xlabel='hour'>"
      ]
     },
     "execution_count": 28,
     "metadata": {},
     "output_type": "execute_result"
    },
    {
     "data": {
      "image/png": "[encoded data removed]",
      "text/plain": [
       "<Figure size 432x288 with 1 Axes>"
      ]
     },
     "metadata": {
      "needs_background": "light"
     },
     "output_type": "display_data"
    }
   ],
   "source": [
    "dfv.groupby('hour')['Quantity'].sum().plot(kind = 'bar', colormap = 'Pastel1')"
   ]
  },
  {
   "cell_type": "code",
   "execution_count": null,
   "metadata": {
    "id": "svTpWm6Om1KF"
   },
   "outputs": [],
   "source": []
  },
  {
   "cell_type": "markdown",
   "metadata": {
    "id": "DYCi4Nv1zyvN"
   },
   "source": [
    "This plot shows that afternoons are the busiest times"
   ]
  },
  {
   "cell_type": "code",
   "execution_count": 29,
   "metadata": {
    "colab": {
     "base_uri": "https://localhost:8080/",
     "height": 299
    },
    "executionInfo": {
     "elapsed": 941,
     "status": "ok",
     "timestamp": 1625571491751,
     "user": {
      "displayName": "Kinjal Toshniwal",
      "photoUrl": "",
      "userId": "12129278458264247337"
     },
     "user_tz": -330
    },
    "id": "vWQlR-MMzfYO",
    "outputId": "7a5fdc72-f201-46e9-b047-7211f2c024dd"
   },
   "outputs": [
    {
     "data": {
      "text/plain": [
       "<AxesSubplot:xlabel='month'>"
      ]
     },
     "execution_count": 29,
     "metadata": {},
     "output_type": "execute_result"
    },
    {
     "data": {
      "image/png": "[encoded data removed]",
      "text/plain": [
       "<Figure size 432x288 with 1 Axes>"
      ]
     },
     "metadata": {
      "needs_background": "light"
     },
     "output_type": "display_data"
    }
   ],
   "source": [
    "dfv.groupby('month')['amount'].sum().plot(kind='bar', colormap = 'Accent')"
   ]
  },
  {
   "cell_type": "markdown",
   "metadata": {
    "id": "1o2Vqfp3z8qz"
   },
   "source": [
    "This shows that maximum sales have taken place in the last months"
   ]
  },
  {
   "cell_type": "code",
   "execution_count": 30,
   "metadata": {
    "colab": {
     "base_uri": "https://localhost:8080/",
     "height": 323
    },
    "executionInfo": {
     "elapsed": 28,
     "status": "ok",
     "timestamp": 1625571492242,
     "user": {
      "displayName": "Kinjal Toshniwal",
      "photoUrl": "",
      "userId": "12129278458264247337"
     },
     "user_tz": -330
    },
    "id": "NU_mklczz5Rm",
    "outputId": "a9ac1a3f-a237-4e90-9be2-2e40742b0ecf"
   },
   "outputs": [
    {
     "data": {
      "text/plain": [
       "<AxesSubplot:xlabel='year'>"
      ]
     },
     "execution_count": 30,
     "metadata": {},
     "output_type": "execute_result"
    },
    {
     "data": {
      "image/png": "[encoded data removed]",
      "text/plain": [
       "<Figure size 432x288 with 1 Axes>"
      ]
     },
     "metadata": {
      "needs_background": "light"
     },
     "output_type": "display_data"
    }
   ],
   "source": [
    "dfv.groupby('year')['Quantity'].sum().plot(kind='bar',colormap = 'Spectral_r')"
   ]
  },
  {
   "cell_type": "code",
   "execution_count": 31,
   "metadata": {
    "colab": {
     "base_uri": "https://localhost:8080/"
    },
    "executionInfo": {
     "elapsed": 22,
     "status": "ok",
     "timestamp": 1625571492243,
     "user": {
      "displayName": "Kinjal Toshniwal",
      "photoUrl": "",
      "userId": "12129278458264247337"
     },
     "user_tz": -330
    },
    "id": "CF1cki120Kb7",
    "outputId": "198c155f-210a-43f3-a621-2f231bc95999"
   },
   "outputs": [
    {
     "data": {
      "text/plain": [
       "0        2010-12-01 08:26:00\n",
       "1        2010-12-01 08:26:00\n",
       "2        2010-12-01 08:26:00\n",
       "3        2010-12-01 08:26:00\n",
       "4        2010-12-01 08:26:00\n",
       "                 ...        \n",
       "541896   2011-12-09 12:50:00\n",
       "541895   2011-12-09 12:50:00\n",
       "541907   2011-12-09 12:50:00\n",
       "541900   2011-12-09 12:50:00\n",
       "541908   2011-12-09 12:50:00\n",
       "Name: InvoiceDate, Length: 361147, dtype: datetime64[ns]"
      ]
     },
     "execution_count": 31,
     "metadata": {},
     "output_type": "execute_result"
    }
   ],
   "source": [
    "dfv.InvoiceDate.sort_values()"
   ]
  },
  {
   "cell_type": "markdown",
   "metadata": {
    "id": "39vwQZUP04dx"
   },
   "source": [
    "The huge difference between the years is because the dataset starts from december of 2010 and ends in december 2011"
   ]
  },
  {
   "cell_type": "code",
   "execution_count": 32,
   "metadata": {
    "colab": {
     "base_uri": "https://localhost:8080/",
     "height": 345
    },
    "executionInfo": {
     "elapsed": 654,
     "status": "ok",
     "timestamp": 1625571492880,
     "user": {
      "displayName": "Kinjal Toshniwal",
      "photoUrl": "",
      "userId": "12129278458264247337"
     },
     "user_tz": -330
    },
    "id": "tQYjql5O0Wma",
    "outputId": "f3781b7d-d711-4fee-f22d-f496f20193b0"
   },
   "outputs": [
    {
     "data": {
      "text/plain": [
       "<AxesSubplot:xlabel='weekday'>"
      ]
     },
     "execution_count": 32,
     "metadata": {},
     "output_type": "execute_result"
    },
    {
     "data": {
      "image/png": "[encoded data removed]",
      "text/plain": [
       "<Figure size 432x288 with 1 Axes>"
      ]
     },
     "metadata": {
      "needs_background": "light"
     },
     "output_type": "display_data"
    }
   ],
   "source": [
    "dfv.groupby('weekday')['Quantity'].sum().plot(kind='bar',colormap = 'copper_r')"
   ]
  },
  {
   "cell_type": "markdown",
   "metadata": {
    "id": "sq_NQ3MLFnuj"
   },
   "source": [
    "Here we can see that no sales happen on Saturday, so the shop must be closed that day and the busiest day is Thursday"
   ]
  },
  {
   "cell_type": "code",
   "execution_count": 33,
   "metadata": {
    "colab": {
     "base_uri": "https://localhost:8080/",
     "height": 533
    },
    "executionInfo": {
     "elapsed": 973,
     "status": "ok",
     "timestamp": 1625571493845,
     "user": {
      "displayName": "Kinjal Toshniwal",
      "photoUrl": "",
      "userId": "12129278458264247337"
     },
     "user_tz": -330
    },
    "id": "LUk0TFgw4myD",
    "outputId": "06ce3d00-3761-4cf1-948e-2b0d0d18cd61"
   },
   "outputs": [
    {
     "data": {
      "text/plain": [
       "<AxesSubplot:title={'center':'Top 30 Products'}>"
      ]
     },
     "execution_count": 33,
     "metadata": {},
     "output_type": "execute_result"
    },
    {
     "data": {
      "image/png": "[encoded data removed]",
      "text/plain": [
       "<Figure size 1080x360 with 1 Axes>"
      ]
     },
     "metadata": {
      "needs_background": "light"
     },
     "output_type": "display_data"
    }
   ],
   "source": [
    "dfv.Description.value_counts().sort_values(ascending=False)[:30].plot(kind='bar', colormap='rainbow', figsize=(15,5), title=\"Top 30 Products\")"
   ]
  },
  {
   "cell_type": "code",
   "execution_count": 34,
   "metadata": {
    "colab": {
     "base_uri": "https://localhost:8080/",
     "height": 555
    },
    "executionInfo": {
     "elapsed": 1277,
     "status": "ok",
     "timestamp": 1625571495104,
     "user": {
      "displayName": "Kinjal Toshniwal",
      "photoUrl": "",
      "userId": "12129278458264247337"
     },
     "user_tz": -330
    },
    "id": "fouaK_JP7gfo",
    "outputId": "6f697b29-ae8c-4e22-efc0-228af0f63e73"
   },
   "outputs": [
    {
     "data": {
      "text/plain": [
       "<AxesSubplot:title={'center':'Last 30 Products'}>"
      ]
     },
     "execution_count": 34,
     "metadata": {},
     "output_type": "execute_result"
    },
    {
     "data": {
      "image/png": "[encoded data removed]",
      "text/plain": [
       "<Figure size 864x360 with 1 Axes>"
      ]
     },
     "metadata": {
      "needs_background": "light"
     },
     "output_type": "display_data"
    }
   ],
   "source": [
    "dfv.Description.value_counts().sort_values(ascending=False)[-30:].plot(kind='bar', colormap='rainbow', figsize=(12,5), title=\"Last 30 Products\")"
   ]
  },
  {
   "cell_type": "code",
   "execution_count": 35,
   "metadata": {
    "colab": {
     "base_uri": "https://localhost:8080/",
     "height": 327
    },
    "executionInfo": {
     "elapsed": 26,
     "status": "ok",
     "timestamp": 1625571495107,
     "user": {
      "displayName": "Kinjal Toshniwal",
      "photoUrl": "",
      "userId": "12129278458264247337"
     },
     "user_tz": -330
    },
    "id": "dr4Tcr0L_gQt",
    "outputId": "1399ce91-673c-46e2-93fe-616b2ce69dca"
   },
   "outputs": [
    {
     "data": {
      "text/plain": [
       "<AxesSubplot:title={'center':'Top 20 Customers'}>"
      ]
     },
     "execution_count": 35,
     "metadata": {},
     "output_type": "execute_result"
    },
    {
     "data": {
      "image/png": "[encoded data removed]",
      "text/plain": [
       "<Figure size 720x288 with 1 Axes>"
      ]
     },
     "metadata": {
      "needs_background": "light"
     },
     "output_type": "display_data"
    }
   ],
   "source": [
    "dfv.sort_values(['CustomerID','amount'], ascending=False).drop(['InvoiceDate','InvoiceNo','StockCode','CustomerID','year','month','hour', 'UnitPrice'], axis=1)[:20].plot(kind='bar', figsize=(10,4), title='Top 20 Customers')"
   ]
  },
  {
   "cell_type": "code",
   "execution_count": 36,
   "metadata": {
    "colab": {
     "base_uri": "https://localhost:8080/",
     "height": 327
    },
    "executionInfo": {
     "elapsed": 1006,
     "status": "ok",
     "timestamp": 1625571496098,
     "user": {
      "displayName": "Kinjal Toshniwal",
      "photoUrl": "",
      "userId": "12129278458264247337"
     },
     "user_tz": -330
    },
    "id": "3AHqgQnbL8DK",
    "outputId": "6ca997a1-689e-4697-f4ab-c24d5bd647f0"
   },
   "outputs": [
    {
     "data": {
      "text/plain": [
       "<AxesSubplot:title={'center':'Last 20 Customers'}>"
      ]
     },
     "execution_count": 36,
     "metadata": {},
     "output_type": "execute_result"
    },
    {
     "data": {
      "image/png": "[encoded data removed]",
      "text/plain": [
       "<Figure size 720x288 with 1 Axes>"
      ]
     },
     "metadata": {
      "needs_background": "light"
     },
     "output_type": "display_data"
    }
   ],
   "source": [
    "dfv.sort_values(['CustomerID','amount'], ascending=False).drop(['InvoiceDate','InvoiceNo','StockCode','CustomerID','year','month','hour', 'UnitPrice'], axis=1)[-20:].plot(kind='bar', figsize=(10,4), title='Last 20 Customers')"
   ]
  },
  {
   "cell_type": "code",
   "execution_count": null,
   "metadata": {
    "executionInfo": {
     "elapsed": 15,
     "status": "ok",
     "timestamp": 1625571496099,
     "user": {
      "displayName": "Kinjal Toshniwal",
      "photoUrl": "",
      "userId": "12129278458264247337"
     },
     "user_tz": -330
    },
    "id": "5nZRM6_RnIGZ"
   },
   "outputs": [],
   "source": []
  }
 ],
 "metadata": {
  "accelerator": "TPU",
  "colab": {
   "authorship_tag": "ABX9TyOiEvZpHBVgNnkYgGXuyiaG",
   "name": "EDA.ipynb",
   "provenance": []
  },
  "kernelspec": {
   "display_name": "Python 3",
   "language": "python",
   "name": "python3"
  },
  "language_info": {
   "codemirror_mode": {
    "name": "ipython",
    "version": 3
   },
   "file_extension": ".py",
   "mimetype": "text/x-python",
   "name": "python",
   "nbconvert_exporter": "python",
   "pygments_lexer": "ipython3",
   "version": "3.8.8"
  }
 },
 "nbformat": 4,
 "nbformat_minor": 1
}
